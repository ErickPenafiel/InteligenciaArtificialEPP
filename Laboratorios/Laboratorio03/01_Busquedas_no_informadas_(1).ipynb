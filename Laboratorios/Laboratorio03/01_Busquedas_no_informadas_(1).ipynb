{
  "cells": [
    {
      "cell_type": "code",
      "execution_count": null,
      "id": "d0e4e268",
      "metadata": {
        "id": "d0e4e268"
      },
      "outputs": [],
      "source": [
        "# datos = estado\n",
        "class Nodo:\n",
        "    def __init__(self, datos, hijo=None):\n",
        "        self.datos = datos\n",
        "        self.hijos = []\n",
        "        self.padre = None\n",
        "        self.costo = None\n",
        "        self.set_hijo(hijo)\n",
        "        \n",
        "    def set_hijo(self, hijo):\n",
        "        if (hijo is not None):\n",
        "            self.hijos.append(hijo)\n",
        "            if self.hijos is not None:\n",
        "                for h in self.hijos:\n",
        "                    h.padre = self\n",
        "                \n",
        "    def get_hijos(self):\n",
        "        return self.hijos\n",
        "    \n",
        "    def set_padre(self, padre):\n",
        "        self.padre = padre\n",
        "        \n",
        "    def get_padre(self):\n",
        "        return self.padre\n",
        "\n",
        "    def set_datos(self, datos):\n",
        "        self.datos = datos\n",
        "    \n",
        "    def get_datos(self):\n",
        "        return self.datos\n",
        "    \n",
        "    def set_costo(self, costo):\n",
        "        self.costo = costo\n",
        "        \n",
        "    def get_costo(self):\n",
        "        return self.costo\n",
        "    \n",
        "    def equal(self, nodo):\n",
        "        if self.get_datos() == nodo.get_datos():\n",
        "            return True\n",
        "        else:\n",
        "            return False\n",
        "    \n",
        "    def en_lista(self, lista_nodos):\n",
        "        enlistado = False\n",
        "        for n in lista_nodos:\n",
        "            if self.equal(n):\n",
        "                enlistado = True\n",
        "        return enlistado\n",
        "    \n",
        "    def __str__(self):\n",
        "        return str(self.get_datos())"
      ]
    },
    {
      "cell_type": "code",
      "execution_count": null,
      "id": "a679e621",
      "metadata": {
        "id": "a679e621"
      },
      "outputs": [],
      "source": [
        "def bpa(estado_inicio, estado_solucion):\n",
        "    resuelto = False\n",
        "    nodos_visitados = []\n",
        "    nodos_frontera = []\n",
        "    nodo_inicio = Nodo(estado_inicio)\n",
        "    nodos_frontera.append(nodo_inicio)\n",
        "    \n",
        "    while resuelto == False and len(nodos_frontera) != 0:\n",
        "        nodo_actual = nodos_frontera.pop(0)\n",
        "        nodos_visitados.append(nodo_actual)\n",
        "        if nodo_actual.get_datos() == estado_solucion:\n",
        "            resuelto = True\n",
        "            return nodo_actual\n",
        "        else:\n",
        "            hijo1_datos = nodo_actual.get_datos().copy()\n",
        "            temp = hijo1_datos[0]\n",
        "            hijo1_datos[0] = hijo1_datos[1]\n",
        "            hijo1_datos[1] = temp\n",
        "            hijo1 = Nodo(hijo1_datos)\n",
        "            \n",
        "            if not hijo1.en_lista(nodos_visitados) and not hijo1.en_lista(nodos_frontera):\n",
        "                nodo_actual.set_hijo(hijo1)\n",
        "                nodos_frontera.append(hijo1)\n",
        "                \n",
        "            hijo2_datos = nodo_actual.get_datos().copy()\n",
        "            temp = hijo2_datos[1]\n",
        "            hijo2_datos[1] = hijo2_datos[2]\n",
        "            hijo2_datos[2] = temp\n",
        "            hijo2 = Nodo(hijo2_datos)\n",
        "            if not hijo2.en_lista(nodos_visitados) and not hijo2.en_lista(nodos_frontera):\n",
        "                nodos_frontera.append(hijo2)\n",
        "                nodo_actual.set_hijo(hijo2)\n",
        "                \n",
        "            hijo3_datos = nodo_actual.get_datos().copy()\n",
        "            temp = hijo3_datos[2]\n",
        "            hijo3_datos[2] = hijo3_datos[3]\n",
        "            hijo3_datos[3] = temp\n",
        "            hijo3 = Nodo(hijo3_datos)\n",
        "            if not hijo3.en_lista(nodos_visitados) and not hijo3.en_lista(nodos_frontera):\n",
        "                nodos_frontera.append(hijo3)\n",
        "                nodo_actual.set_hijo(hijo3)           "
      ]
    },
    {
      "cell_type": "code",
      "source": [
        "def bpa(estado_inicio, estado_solucion):\n",
        "    resuelto = False\n",
        "    nodos_visitados = []\n",
        "    nodos_frontera = []\n",
        "    nodo_inicio = Nodo(estado_inicio)\n",
        "    nodos_frontera.append(nodo_inicio)\n",
        "    \n",
        "    while resuelto == False and len(nodos_frontera) != 0:\n",
        "        nodo_actual = nodos_frontera.pop(0)\n",
        "        nodos_visitados.append(nodo_actual)\n",
        "        if nodo_actual.get_datos() == estado_solucion:\n",
        "            resuelto = True\n",
        "            return nodo_actual\n",
        "        else:\n",
        "            for i in range(0, len(estado_solucion)-1):\n",
        "              elemento = estado_solucion[i]\n",
        "              for j in range(0, len(estado_inicio)-1):\n",
        "                indice = estado_inicio.index(elemento)\n",
        "                ##############\n",
        "                hijo1_datos = nodo_actual.get_datos().copy()\n",
        "                temp = hijo1_datos[indice-1]\n",
        "                hijo1_datos[indice-1] = hijo1_datos[indice]\n",
        "                hijo1_datos[indice] = temp\n",
        "                hijo1 = Nodo(hijo1_datos)\n",
        "                \n",
        "                if not hijo1.en_lista(nodos_visitados) and not hijo1.en_lista(nodos_frontera):\n",
        "                    nodo_actual.set_hijo(hijo1)\n",
        "                    nodos_frontera.append(hijo1)"
      ],
      "metadata": {
        "id": "6FBzAfJ52QuN"
      },
      "id": "6FBzAfJ52QuN",
      "execution_count": null,
      "outputs": []
    },
    {
      "cell_type": "code",
      "execution_count": null,
      "id": "ae74c57e",
      "metadata": {
        "id": "ae74c57e",
        "colab": {
          "base_uri": "https://localhost:8080/"
        },
        "outputId": "68526077-a110-4b24-cf04-9e11982bd42a"
      },
      "outputs": [
        {
          "output_type": "stream",
          "name": "stdout",
          "text": [
            "[[6, 5, 4, 3, 2, 1], [6, 5, 4, 3, 1, 2], [6, 5, 4, 1, 3, 2], [6, 5, 4, 1, 2, 3], [6, 5, 1, 4, 2, 3], [6, 5, 1, 2, 4, 3], [6, 5, 1, 2, 3, 4], [6, 1, 5, 2, 3, 4], [6, 1, 2, 5, 3, 4], [6, 1, 2, 3, 5, 4], [6, 1, 2, 3, 4, 5], [1, 6, 2, 3, 4, 5], [1, 2, 6, 3, 4, 5], [1, 2, 3, 6, 4, 5], [1, 2, 3, 4, 6, 5], [1, 2, 3, 4, 5, 6]]\n"
          ]
        }
      ],
      "source": [
        "if __name__ == \"__main__\":\n",
        "    estado_inicial = [6, 5, 4, 3, 2, 1]\n",
        "    solucion = [1, 2, 3, 4, 5, 6]\n",
        "    nodo_solucion = bpa(estado_inicial, solucion)\n",
        "\n",
        "    # mostrar resultado\n",
        "    resultado = []\n",
        "    nodo_actual = nodo_solucion\n",
        "    while nodo_actual.get_padre() is not None:\n",
        "        resultado.append(nodo_actual.get_datos())\n",
        "        nodo_actual = nodo_actual.get_padre()\n",
        "\n",
        "    resultado.append(estado_inicial)\n",
        "    resultado.reverse()\n",
        "    print(resultado)"
      ]
    },
    {
      "cell_type": "code",
      "execution_count": null,
      "id": "dbe6be16",
      "metadata": {
        "id": "dbe6be16"
      },
      "outputs": [],
      "source": []
    }
  ],
  "metadata": {
    "kernelspec": {
      "display_name": "Python 3 (ipykernel)",
      "language": "python",
      "name": "python3"
    },
    "language_info": {
      "codemirror_mode": {
        "name": "ipython",
        "version": 3
      },
      "file_extension": ".py",
      "mimetype": "text/x-python",
      "name": "python",
      "nbconvert_exporter": "python",
      "pygments_lexer": "ipython3",
      "version": "3.9.12"
    },
    "colab": {
      "provenance": [],
      "collapsed_sections": []
    }
  },
  "nbformat": 4,
  "nbformat_minor": 5
}